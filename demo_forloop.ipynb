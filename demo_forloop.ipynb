{
 "cells": [
  {
   "cell_type": "code",
   "execution_count": 1,
   "id": "dcd17970",
   "metadata": {},
   "outputs": [],
   "source": [
    "import numpy as np"
   ]
  },
  {
   "cell_type": "code",
   "execution_count": 2,
   "id": "02313469",
   "metadata": {},
   "outputs": [],
   "source": [
    "import pandas as pd"
   ]
  },
  {
   "cell_type": "code",
   "execution_count": 3,
   "id": "e5d1cf37",
   "metadata": {},
   "outputs": [],
   "source": [
    "import datetime"
   ]
  },
  {
   "cell_type": "code",
   "execution_count": 4,
   "id": "bebeadf7",
   "metadata": {},
   "outputs": [],
   "source": [
    "import matplotlib.pyplot as plt"
   ]
  },
  {
   "cell_type": "markdown",
   "id": "8b748dcc",
   "metadata": {},
   "source": [
    "# Create example data for demo"
   ]
  },
  {
   "cell_type": "code",
   "execution_count": 5,
   "id": "0659cc14",
   "metadata": {},
   "outputs": [],
   "source": [
    "def sim_samples(id_sample, n_samples, n_cycles, max_val):\n",
    "    id_samples_per_cycle = np.floor(n_samples/n_cycles)\n",
    "    cos_inner = (np.pi * (id_sample % id_samples_per_cycle)) / (id_samples_per_cycle)\n",
    "    return max_val/2 * (np.cos(cos_inner) + 1)"
   ]
  },
  {
   "cell_type": "code",
   "execution_count": 6,
   "id": "4faeee27",
   "metadata": {},
   "outputs": [],
   "source": [
    "n_samples = 100\n",
    "df_demo = pd.DataFrame(columns=['date_time', 'O2val'])\n",
    "df_demo['date_time'] = pd.period_range(start=datetime.datetime.today(), periods= n_samples, freq='3s').to_timestamp()\n",
    "df_demo['O2val'] = [sim_samples(i, n_samples, 5, 50) for i in range(n_samples)]"
   ]
  },
  {
   "cell_type": "code",
   "execution_count": 7,
   "id": "26e73697",
   "metadata": {},
   "outputs": [
    {
     "data": {
      "text/html": [
       "<div>\n",
       "<style scoped>\n",
       "    .dataframe tbody tr th:only-of-type {\n",
       "        vertical-align: middle;\n",
       "    }\n",
       "\n",
       "    .dataframe tbody tr th {\n",
       "        vertical-align: top;\n",
       "    }\n",
       "\n",
       "    .dataframe thead th {\n",
       "        text-align: right;\n",
       "    }\n",
       "</style>\n",
       "<table border=\"1\" class=\"dataframe\">\n",
       "  <thead>\n",
       "    <tr style=\"text-align: right;\">\n",
       "      <th></th>\n",
       "      <th>date_time</th>\n",
       "      <th>O2val</th>\n",
       "    </tr>\n",
       "  </thead>\n",
       "  <tbody>\n",
       "    <tr>\n",
       "      <th>0</th>\n",
       "      <td>2023-08-07 20:06:02</td>\n",
       "      <td>50.000000</td>\n",
       "    </tr>\n",
       "    <tr>\n",
       "      <th>1</th>\n",
       "      <td>2023-08-07 20:06:05</td>\n",
       "      <td>49.692209</td>\n",
       "    </tr>\n",
       "    <tr>\n",
       "      <th>2</th>\n",
       "      <td>2023-08-07 20:06:08</td>\n",
       "      <td>48.776413</td>\n",
       "    </tr>\n",
       "    <tr>\n",
       "      <th>3</th>\n",
       "      <td>2023-08-07 20:06:11</td>\n",
       "      <td>47.275163</td>\n",
       "    </tr>\n",
       "    <tr>\n",
       "      <th>4</th>\n",
       "      <td>2023-08-07 20:06:14</td>\n",
       "      <td>45.225425</td>\n",
       "    </tr>\n",
       "    <tr>\n",
       "      <th>...</th>\n",
       "      <td>...</td>\n",
       "      <td>...</td>\n",
       "    </tr>\n",
       "    <tr>\n",
       "      <th>95</th>\n",
       "      <td>2023-08-07 20:10:47</td>\n",
       "      <td>7.322330</td>\n",
       "    </tr>\n",
       "    <tr>\n",
       "      <th>96</th>\n",
       "      <td>2023-08-07 20:10:50</td>\n",
       "      <td>4.774575</td>\n",
       "    </tr>\n",
       "    <tr>\n",
       "      <th>97</th>\n",
       "      <td>2023-08-07 20:10:53</td>\n",
       "      <td>2.724837</td>\n",
       "    </tr>\n",
       "    <tr>\n",
       "      <th>98</th>\n",
       "      <td>2023-08-07 20:10:56</td>\n",
       "      <td>1.223587</td>\n",
       "    </tr>\n",
       "    <tr>\n",
       "      <th>99</th>\n",
       "      <td>2023-08-07 20:10:59</td>\n",
       "      <td>0.307791</td>\n",
       "    </tr>\n",
       "  </tbody>\n",
       "</table>\n",
       "<p>100 rows × 2 columns</p>\n",
       "</div>"
      ],
      "text/plain": [
       "             date_time      O2val\n",
       "0  2023-08-07 20:06:02  50.000000\n",
       "1  2023-08-07 20:06:05  49.692209\n",
       "2  2023-08-07 20:06:08  48.776413\n",
       "3  2023-08-07 20:06:11  47.275163\n",
       "4  2023-08-07 20:06:14  45.225425\n",
       "..                 ...        ...\n",
       "95 2023-08-07 20:10:47   7.322330\n",
       "96 2023-08-07 20:10:50   4.774575\n",
       "97 2023-08-07 20:10:53   2.724837\n",
       "98 2023-08-07 20:10:56   1.223587\n",
       "99 2023-08-07 20:10:59   0.307791\n",
       "\n",
       "[100 rows x 2 columns]"
      ]
     },
     "execution_count": 7,
     "metadata": {},
     "output_type": "execute_result"
    }
   ],
   "source": [
    "df_demo"
   ]
  },
  {
   "cell_type": "code",
   "execution_count": 12,
   "id": "2e037ef4",
   "metadata": {},
   "outputs": [
    {
     "data": {
      "text/plain": [
       "date_time    2023-08-07 20:10:59\n",
       "O2val                       50.0\n",
       "dtype: object"
      ]
     },
     "execution_count": 12,
     "metadata": {},
     "output_type": "execute_result"
    }
   ],
   "source": [
    "df_demo.max()"
   ]
  },
  {
   "cell_type": "code",
   "execution_count": 8,
   "id": "f5636d2f",
   "metadata": {},
   "outputs": [
    {
     "data": {
      "image/png": "[encoded data removed]",
      "text/plain": [
       "<Figure size 432x288 with 1 Axes>"
      ]
     },
     "metadata": {
      "needs_background": "light"
     },
     "output_type": "display_data"
    }
   ],
   "source": [
    "thresh = 40\n",
    "plt.plot(df_demo['date_time'], df_demo['O2val'], label='O2 values')\n",
    "plt.plot(df_demo['date_time'], [thresh]*n_samples, label='threshold')\n",
    "plt.legend()\n",
    "plt.show()"
   ]
  },
  {
   "cell_type": "markdown",
   "id": "1685fe2b",
   "metadata": {},
   "source": [
    "# For loop "
   ]
  },
  {
   "cell_type": "code",
   "execution_count": 9,
   "id": "9bfe2fdd",
   "metadata": {},
   "outputs": [],
   "source": [
    "import csv"
   ]
  },
  {
   "cell_type": "code",
   "execution_count": 10,
   "id": "510f1ce3",
   "metadata": {},
   "outputs": [
    {
     "name": "stdout",
     "output_type": "stream",
     "text": [
      "Generating alert at 2023-08-07 20:06:20\n",
      "Closing alert at 2023-08-07 20:07:02\n",
      "Generating alert at 2023-08-07 20:07:20\n",
      "Closing alert at 2023-08-07 20:08:02\n",
      "Generating alert at 2023-08-07 20:08:20\n",
      "Closing alert at 2023-08-07 20:09:02\n",
      "Generating alert at 2023-08-07 20:09:20\n",
      "Closing alert at 2023-08-07 20:10:02\n",
      "Generating alert at 2023-08-07 20:10:20\n"
     ]
    }
   ],
   "source": [
    "alert_on = False\n",
    "for ind, row in df_demo.iterrows():\n",
    "    if((row['O2val']) < thresh) & (alert_on == False): # Value dropped just below the threshold\n",
    "        # generate alert : modify to generate an alert pop-up\n",
    "        print(f'Generating alert at {row[\"date_time\"]}') \n",
    "        \n",
    "        # log the information that the value has dropped\n",
    "        with open('log.csv','a') as f1:\n",
    "            writer = csv.DictWriter(f1, fieldnames= ['date_time','O2_dropped_to'], delimiter='\\t',lineterminator='\\n')\n",
    "            writer.writerow({'date_time': row[\"date_time\"], 'O2_dropped_to':row['O2val']})\n",
    "        \n",
    "        # Switch on the flag to indicate that alert box has been created\n",
    "        alert_on = True \n",
    "        \n",
    "    if((row['O2val']) > thresh) & (alert_on == True): # Manual calibration\n",
    "        # maybe close the alert box\n",
    "        print(f'Closing alert at {row[\"date_time\"]}') \n",
    "        # switch off the flag\n",
    "        alert_on = False "
   ]
  },
  {
   "cell_type": "markdown",
   "id": "ba89ae9f",
   "metadata": {},
   "source": [
    "# Example implementation"
   ]
  },
  {
   "cell_type": "code",
   "execution_count": 21,
   "id": "a984f653",
   "metadata": {},
   "outputs": [
    {
     "name": "stdout",
     "output_type": "stream",
     "text": [
      "Dates between 2022-06-16 and 2022-06-15\n"
     ]
    },
    {
     "data": {
      "text/html": [
       "<div>\n",
       "<style scoped>\n",
       "    .dataframe tbody tr th:only-of-type {\n",
       "        vertical-align: middle;\n",
       "    }\n",
       "\n",
       "    .dataframe tbody tr th {\n",
       "        vertical-align: top;\n",
       "    }\n",
       "\n",
       "    .dataframe thead th {\n",
       "        text-align: right;\n",
       "    }\n",
       "</style>\n",
       "<table border=\"1\" class=\"dataframe\">\n",
       "  <thead>\n",
       "    <tr style=\"text-align: right;\">\n",
       "      <th></th>\n",
       "      <th>0</th>\n",
       "    </tr>\n",
       "  </thead>\n",
       "  <tbody>\n",
       "    <tr>\n",
       "      <th>0</th>\n",
       "      <td>2021-12-10</td>\n",
       "    </tr>\n",
       "    <tr>\n",
       "      <th>1</th>\n",
       "      <td>2021-12-11</td>\n",
       "    </tr>\n",
       "    <tr>\n",
       "      <th>2</th>\n",
       "      <td>2021-12-12</td>\n",
       "    </tr>\n",
       "    <tr>\n",
       "      <th>3</th>\n",
       "      <td>2021-12-13</td>\n",
       "    </tr>\n",
       "    <tr>\n",
       "      <th>4</th>\n",
       "      <td>2021-12-14</td>\n",
       "    </tr>\n",
       "    <tr>\n",
       "      <th>...</th>\n",
       "      <td>...</td>\n",
       "    </tr>\n",
       "    <tr>\n",
       "      <th>183</th>\n",
       "      <td>2022-06-11</td>\n",
       "    </tr>\n",
       "    <tr>\n",
       "      <th>184</th>\n",
       "      <td>2022-06-12</td>\n",
       "    </tr>\n",
       "    <tr>\n",
       "      <th>185</th>\n",
       "      <td>2022-06-13</td>\n",
       "    </tr>\n",
       "    <tr>\n",
       "      <th>186</th>\n",
       "      <td>2022-06-14</td>\n",
       "    </tr>\n",
       "    <tr>\n",
       "      <th>187</th>\n",
       "      <td>2022-06-15</td>\n",
       "    </tr>\n",
       "  </tbody>\n",
       "</table>\n",
       "<p>188 rows × 1 columns</p>\n",
       "</div>"
      ],
      "text/plain": [
       "              0\n",
       "0    2021-12-10\n",
       "1    2021-12-11\n",
       "2    2021-12-12\n",
       "3    2021-12-13\n",
       "4    2021-12-14\n",
       "..          ...\n",
       "183  2022-06-11\n",
       "184  2022-06-12\n",
       "185  2022-06-13\n",
       "186  2022-06-14\n",
       "187  2022-06-15\n",
       "\n",
       "[188 rows x 1 columns]"
      ]
     },
     "execution_count": 21,
     "metadata": {},
     "output_type": "execute_result"
    }
   ],
   "source": [
    "from datetime import date, timedelta\n",
    "\n",
    "start_dt = date(2021, 12, 10)\n",
    "end_dt = date(2022, 6, 15)\n",
    "\n",
    "# difference between current and previous date\n",
    "delta = timedelta(days=1)\n",
    "\n",
    "# store the dates between two dates in a list\n",
    "dates = []\n",
    "\n",
    "while start_dt <= end_dt:\n",
    "    # add current date to list by converting  it to iso format\n",
    "    dates.append(start_dt.isoformat())\n",
    "    # increment start date by timedelta\n",
    "    start_dt += delta\n",
    "\n",
    "print('Dates between', start_dt, 'and', end_dt)\n",
    "#print(dates)\n",
    "\n",
    "dates = pd.DataFrame(dates)\n",
    "\n",
    "dates"
   ]
  },
  {
   "cell_type": "code",
   "execution_count": 28,
   "id": "895670e2",
   "metadata": {},
   "outputs": [
    {
     "data": {
      "text/plain": [
       "0    2021-12-31\n",
       "dtype: object"
      ]
     },
     "execution_count": 28,
     "metadata": {},
     "output_type": "execute_result"
    }
   ],
   "source": [
    "dates[1:22].max()"
   ]
  },
  {
   "cell_type": "code",
   "execution_count": 31,
   "id": "31d3321d",
   "metadata": {},
   "outputs": [],
   "source": [
    "select_dates = dates[:22]"
   ]
  },
  {
   "cell_type": "code",
   "execution_count": 39,
   "id": "b6861c49",
   "metadata": {},
   "outputs": [],
   "source": [
    "df_demo = pd.DataFrame(columns=['date_time', 'O2val'])\n",
    "df_demo['date_time'] = select_dates\n",
    "df_demo['O2val'] = [sim_samples(i, n_samples, 5, 50) for i in range(22)]"
   ]
  },
  {
   "cell_type": "code",
   "execution_count": 40,
   "id": "c3c30961",
   "metadata": {},
   "outputs": [
    {
     "data": {
      "text/html": [
       "<div>\n",
       "<style scoped>\n",
       "    .dataframe tbody tr th:only-of-type {\n",
       "        vertical-align: middle;\n",
       "    }\n",
       "\n",
       "    .dataframe tbody tr th {\n",
       "        vertical-align: top;\n",
       "    }\n",
       "\n",
       "    .dataframe thead th {\n",
       "        text-align: right;\n",
       "    }\n",
       "</style>\n",
       "<table border=\"1\" class=\"dataframe\">\n",
       "  <thead>\n",
       "    <tr style=\"text-align: right;\">\n",
       "      <th></th>\n",
       "      <th>date_time</th>\n",
       "      <th>O2val</th>\n",
       "    </tr>\n",
       "  </thead>\n",
       "  <tbody>\n",
       "    <tr>\n",
       "      <th>0</th>\n",
       "      <td>2021-12-10</td>\n",
       "      <td>50.000000</td>\n",
       "    </tr>\n",
       "    <tr>\n",
       "      <th>1</th>\n",
       "      <td>2021-12-11</td>\n",
       "      <td>49.692209</td>\n",
       "    </tr>\n",
       "    <tr>\n",
       "      <th>2</th>\n",
       "      <td>2021-12-12</td>\n",
       "      <td>48.776413</td>\n",
       "    </tr>\n",
       "    <tr>\n",
       "      <th>3</th>\n",
       "      <td>2021-12-13</td>\n",
       "      <td>47.275163</td>\n",
       "    </tr>\n",
       "    <tr>\n",
       "      <th>4</th>\n",
       "      <td>2021-12-14</td>\n",
       "      <td>45.225425</td>\n",
       "    </tr>\n",
       "    <tr>\n",
       "      <th>5</th>\n",
       "      <td>2021-12-15</td>\n",
       "      <td>42.677670</td>\n",
       "    </tr>\n",
       "    <tr>\n",
       "      <th>6</th>\n",
       "      <td>2021-12-16</td>\n",
       "      <td>39.694631</td>\n",
       "    </tr>\n",
       "    <tr>\n",
       "      <th>7</th>\n",
       "      <td>2021-12-17</td>\n",
       "      <td>36.349762</td>\n",
       "    </tr>\n",
       "    <tr>\n",
       "      <th>8</th>\n",
       "      <td>2021-12-18</td>\n",
       "      <td>32.725425</td>\n",
       "    </tr>\n",
       "    <tr>\n",
       "      <th>9</th>\n",
       "      <td>2021-12-19</td>\n",
       "      <td>28.910862</td>\n",
       "    </tr>\n",
       "    <tr>\n",
       "      <th>10</th>\n",
       "      <td>2021-12-20</td>\n",
       "      <td>25.000000</td>\n",
       "    </tr>\n",
       "    <tr>\n",
       "      <th>11</th>\n",
       "      <td>2021-12-21</td>\n",
       "      <td>21.089138</td>\n",
       "    </tr>\n",
       "    <tr>\n",
       "      <th>12</th>\n",
       "      <td>2021-12-22</td>\n",
       "      <td>17.274575</td>\n",
       "    </tr>\n",
       "    <tr>\n",
       "      <th>13</th>\n",
       "      <td>2021-12-23</td>\n",
       "      <td>13.650238</td>\n",
       "    </tr>\n",
       "    <tr>\n",
       "      <th>14</th>\n",
       "      <td>2021-12-24</td>\n",
       "      <td>10.305369</td>\n",
       "    </tr>\n",
       "    <tr>\n",
       "      <th>15</th>\n",
       "      <td>2021-12-25</td>\n",
       "      <td>7.322330</td>\n",
       "    </tr>\n",
       "    <tr>\n",
       "      <th>16</th>\n",
       "      <td>2021-12-26</td>\n",
       "      <td>4.774575</td>\n",
       "    </tr>\n",
       "    <tr>\n",
       "      <th>17</th>\n",
       "      <td>2021-12-27</td>\n",
       "      <td>2.724837</td>\n",
       "    </tr>\n",
       "    <tr>\n",
       "      <th>18</th>\n",
       "      <td>2021-12-28</td>\n",
       "      <td>1.223587</td>\n",
       "    </tr>\n",
       "    <tr>\n",
       "      <th>19</th>\n",
       "      <td>2021-12-29</td>\n",
       "      <td>0.307791</td>\n",
       "    </tr>\n",
       "    <tr>\n",
       "      <th>20</th>\n",
       "      <td>2021-12-30</td>\n",
       "      <td>50.000000</td>\n",
       "    </tr>\n",
       "    <tr>\n",
       "      <th>21</th>\n",
       "      <td>2021-12-31</td>\n",
       "      <td>49.692209</td>\n",
       "    </tr>\n",
       "  </tbody>\n",
       "</table>\n",
       "</div>"
      ],
      "text/plain": [
       "     date_time      O2val\n",
       "0   2021-12-10  50.000000\n",
       "1   2021-12-11  49.692209\n",
       "2   2021-12-12  48.776413\n",
       "3   2021-12-13  47.275163\n",
       "4   2021-12-14  45.225425\n",
       "5   2021-12-15  42.677670\n",
       "6   2021-12-16  39.694631\n",
       "7   2021-12-17  36.349762\n",
       "8   2021-12-18  32.725425\n",
       "9   2021-12-19  28.910862\n",
       "10  2021-12-20  25.000000\n",
       "11  2021-12-21  21.089138\n",
       "12  2021-12-22  17.274575\n",
       "13  2021-12-23  13.650238\n",
       "14  2021-12-24  10.305369\n",
       "15  2021-12-25   7.322330\n",
       "16  2021-12-26   4.774575\n",
       "17  2021-12-27   2.724837\n",
       "18  2021-12-28   1.223587\n",
       "19  2021-12-29   0.307791\n",
       "20  2021-12-30  50.000000\n",
       "21  2021-12-31  49.692209"
      ]
     },
     "execution_count": 40,
     "metadata": {},
     "output_type": "execute_result"
    }
   ],
   "source": [
    "df_demo"
   ]
  },
  {
   "cell_type": "code",
   "execution_count": 41,
   "id": "44d91781",
   "metadata": {},
   "outputs": [],
   "source": [
    "max_value = df_demo.max()"
   ]
  },
  {
   "cell_type": "code",
   "execution_count": 48,
   "id": "481212d2",
   "metadata": {},
   "outputs": [],
   "source": [
    "import winsound\n",
    "frequency = 2500  # Set Frequency To 2500 Hertz\n",
    "duration = 1000  # Set Duration To 1000 ms == 1 second"
   ]
  },
  {
   "cell_type": "code",
   "execution_count": 51,
   "id": "fc3398a3",
   "metadata": {},
   "outputs": [],
   "source": [
    "import ctypes  # An included library with Python install.   "
   ]
  },
  {
   "cell_type": "code",
   "execution_count": 52,
   "id": "3ecea275",
   "metadata": {},
   "outputs": [],
   "source": [
    "threshold = 21\n",
    "alert_on = False\n",
    "for idx, row in df_demo.iterrows():\n",
    "    if ((row['O2val'] < thresh) & alert_on == False):\n",
    "        winsound.Beep(frequency, duration)\n",
    "        #print(f'Generating alert: {row[\"date_time\"]}')\n",
    "        ctypes.windll.user32.MessageBoxW(0, \"Drifting started!!\", \"ALert...Alert!!\", 1)"
   ]
  },
  {
   "cell_type": "code",
   "execution_count": null,
   "id": "19e903ae",
   "metadata": {},
   "outputs": [],
   "source": []
  }
 ],
 "metadata": {
  "kernelspec": {
   "display_name": "Python 3 (ipykernel)",
   "language": "python",
   "name": "python3"
  },
  "language_info": {
   "codemirror_mode": {
    "name": "ipython",
    "version": 3
   },
   "file_extension": ".py",
   "mimetype": "text/x-python",
   "name": "python",
   "nbconvert_exporter": "python",
   "pygments_lexer": "ipython3",
   "version": "3.9.7"
  }
 },
 "nbformat": 4,
 "nbformat_minor": 5
}
